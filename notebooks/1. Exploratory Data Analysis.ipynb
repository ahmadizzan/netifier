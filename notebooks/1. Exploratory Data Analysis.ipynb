{
 "cells": [
  {
   "cell_type": "code",
   "execution_count": 25,
   "metadata": {},
   "outputs": [],
   "source": [
    "import numpy as np\n",
    "import pandas as pd\n",
    "import matplotlib.pyplot as plt\n",
    "import seaborn as sns\n",
    "\n",
    "% matplotlib inline"
   ]
  },
  {
   "cell_type": "markdown",
   "metadata": {},
   "source": [
    "## Load data"
   ]
  },
  {
   "cell_type": "code",
   "execution_count": 26,
   "metadata": {},
   "outputs": [],
   "source": [
    "RAW_DATA_PATH = '../data/raw'"
   ]
  },
  {
   "cell_type": "code",
   "execution_count": 27,
   "metadata": {},
   "outputs": [],
   "source": [
    "train_data = pd.read_csv('{}/train.csv'.format(RAW_DATA_PATH))\n",
    "test_data = pd.read_csv('{}/test.csv'.format(RAW_DATA_PATH))"
   ]
  },
  {
   "cell_type": "markdown",
   "metadata": {},
   "source": [
    "#### There's 2 types of data\n",
    "1. train_data -- manually labeled data for model training\n",
    "3. test_data -- manually labeled data for test"
   ]
  },
  {
   "cell_type": "markdown",
   "metadata": {},
   "source": [
    "## Data Analysis"
   ]
  },
  {
   "cell_type": "markdown",
   "metadata": {},
   "source": [
    "### Number of samples"
   ]
  },
  {
   "cell_type": "code",
   "execution_count": 28,
   "metadata": {},
   "outputs": [
    {
     "name": "stdout",
     "output_type": "stream",
     "text": [
      "Train data shape                 : (6995, 6)\n",
      "Test data shape                  : (778, 6)\n"
     ]
    }
   ],
   "source": [
    "print('Train data shape                 :', train_data.shape)\n",
    "print('Test data shape                  :', test_data.shape)"
   ]
  },
  {
   "cell_type": "markdown",
   "metadata": {},
   "source": [
    "### Dataframe head"
   ]
  },
  {
   "cell_type": "code",
   "execution_count": 29,
   "metadata": {},
   "outputs": [
    {
     "data": {
      "text/html": [
       "<div>\n",
       "<style>\n",
       "    .dataframe thead tr:only-child th {\n",
       "        text-align: right;\n",
       "    }\n",
       "\n",
       "    .dataframe thead th {\n",
       "        text-align: left;\n",
       "    }\n",
       "\n",
       "    .dataframe tbody tr th {\n",
       "        vertical-align: top;\n",
       "    }\n",
       "</style>\n",
       "<table border=\"1\" class=\"dataframe\">\n",
       "  <thead>\n",
       "    <tr style=\"text-align: right;\">\n",
       "      <th></th>\n",
       "      <th>original_text</th>\n",
       "      <th>source</th>\n",
       "      <th>pornografi</th>\n",
       "      <th>sara</th>\n",
       "      <th>radikalisme</th>\n",
       "      <th>pencemaran_nama_baik</th>\n",
       "    </tr>\n",
       "  </thead>\n",
       "  <tbody>\n",
       "    <tr>\n",
       "      <th>0</th>\n",
       "      <td>[QUOTE=jessepinkman16;5a50ac34d89b093f368b456e...</td>\n",
       "      <td>kaskus</td>\n",
       "      <td>0</td>\n",
       "      <td>0</td>\n",
       "      <td>0</td>\n",
       "      <td>1</td>\n",
       "    </tr>\n",
       "    <tr>\n",
       "      <th>1</th>\n",
       "      <td>@verosvante kita2 aja nitizen yang pada kepo,t...</td>\n",
       "      <td>instagram</td>\n",
       "      <td>0</td>\n",
       "      <td>0</td>\n",
       "      <td>0</td>\n",
       "      <td>0</td>\n",
       "    </tr>\n",
       "    <tr>\n",
       "      <th>2</th>\n",
       "      <td>\"#SidangAhok smg sipenista agama n ateknya mat...</td>\n",
       "      <td>twitter</td>\n",
       "      <td>0</td>\n",
       "      <td>1</td>\n",
       "      <td>1</td>\n",
       "      <td>1</td>\n",
       "    </tr>\n",
       "    <tr>\n",
       "      <th>3</th>\n",
       "      <td>@bolususulembang.jkt barusan baca undang2 ini....</td>\n",
       "      <td>instagram</td>\n",
       "      <td>0</td>\n",
       "      <td>0</td>\n",
       "      <td>0</td>\n",
       "      <td>0</td>\n",
       "    </tr>\n",
       "    <tr>\n",
       "      <th>4</th>\n",
       "      <td>bikin anak mulu lu nof \\nkaga mikir apa kasian...</td>\n",
       "      <td>kaskus</td>\n",
       "      <td>0</td>\n",
       "      <td>0</td>\n",
       "      <td>0</td>\n",
       "      <td>0</td>\n",
       "    </tr>\n",
       "  </tbody>\n",
       "</table>\n",
       "</div>"
      ],
      "text/plain": [
       "                                       original_text     source  pornografi  \\\n",
       "0  [QUOTE=jessepinkman16;5a50ac34d89b093f368b456e...     kaskus           0   \n",
       "1  @verosvante kita2 aja nitizen yang pada kepo,t...  instagram           0   \n",
       "2  \"#SidangAhok smg sipenista agama n ateknya mat...    twitter           0   \n",
       "3  @bolususulembang.jkt barusan baca undang2 ini....  instagram           0   \n",
       "4  bikin anak mulu lu nof \\nkaga mikir apa kasian...     kaskus           0   \n",
       "\n",
       "   sara  radikalisme  pencemaran_nama_baik  \n",
       "0     0            0                     1  \n",
       "1     0            0                     0  \n",
       "2     1            1                     1  \n",
       "3     0            0                     0  \n",
       "4     0            0                     0  "
      ]
     },
     "execution_count": 29,
     "metadata": {},
     "output_type": "execute_result"
    }
   ],
   "source": [
    "train_data.head()"
   ]
  },
  {
   "cell_type": "code",
   "execution_count": 30,
   "metadata": {
    "scrolled": true
   },
   "outputs": [
    {
     "data": {
      "text/html": [
       "<div>\n",
       "<style>\n",
       "    .dataframe thead tr:only-child th {\n",
       "        text-align: right;\n",
       "    }\n",
       "\n",
       "    .dataframe thead th {\n",
       "        text-align: left;\n",
       "    }\n",
       "\n",
       "    .dataframe tbody tr th {\n",
       "        vertical-align: top;\n",
       "    }\n",
       "</style>\n",
       "<table border=\"1\" class=\"dataframe\">\n",
       "  <thead>\n",
       "    <tr style=\"text-align: right;\">\n",
       "      <th></th>\n",
       "      <th>original_text</th>\n",
       "      <th>source</th>\n",
       "      <th>pornografi</th>\n",
       "      <th>sara</th>\n",
       "      <th>radikalisme</th>\n",
       "      <th>pencemaran_nama_baik</th>\n",
       "    </tr>\n",
       "  </thead>\n",
       "  <tbody>\n",
       "    <tr>\n",
       "      <th>0</th>\n",
       "      <td>1.BUKAN CM SPANDUK PROF,VIDEO2 ORASI MEREKA, B...</td>\n",
       "      <td>twitter</td>\n",
       "      <td>0</td>\n",
       "      <td>0</td>\n",
       "      <td>1</td>\n",
       "      <td>0</td>\n",
       "    </tr>\n",
       "    <tr>\n",
       "      <th>1</th>\n",
       "      <td>@memeqbeceq gy sange'gatel yh tetek'memekY drn...</td>\n",
       "      <td>twitter</td>\n",
       "      <td>1</td>\n",
       "      <td>0</td>\n",
       "      <td>0</td>\n",
       "      <td>0</td>\n",
       "    </tr>\n",
       "    <tr>\n",
       "      <th>2</th>\n",
       "      <td>Pertama kali denger lagunya enk bgt in dan png...</td>\n",
       "      <td>instagram</td>\n",
       "      <td>0</td>\n",
       "      <td>0</td>\n",
       "      <td>0</td>\n",
       "      <td>0</td>\n",
       "    </tr>\n",
       "    <tr>\n",
       "      <th>3</th>\n",
       "      <td>astajim, ini pasti yg kasih penghargaan ke ibu...</td>\n",
       "      <td>kaskus</td>\n",
       "      <td>0</td>\n",
       "      <td>0</td>\n",
       "      <td>0</td>\n",
       "      <td>0</td>\n",
       "    </tr>\n",
       "    <tr>\n",
       "      <th>4</th>\n",
       "      <td>beda kalo disini kalo komplain lgs di bully am...</td>\n",
       "      <td>kaskus</td>\n",
       "      <td>0</td>\n",
       "      <td>0</td>\n",
       "      <td>0</td>\n",
       "      <td>0</td>\n",
       "    </tr>\n",
       "  </tbody>\n",
       "</table>\n",
       "</div>"
      ],
      "text/plain": [
       "                                       original_text     source  pornografi  \\\n",
       "0  1.BUKAN CM SPANDUK PROF,VIDEO2 ORASI MEREKA, B...    twitter           0   \n",
       "1  @memeqbeceq gy sange'gatel yh tetek'memekY drn...    twitter           1   \n",
       "2  Pertama kali denger lagunya enk bgt in dan png...  instagram           0   \n",
       "3  astajim, ini pasti yg kasih penghargaan ke ibu...     kaskus           0   \n",
       "4  beda kalo disini kalo komplain lgs di bully am...     kaskus           0   \n",
       "\n",
       "   sara  radikalisme  pencemaran_nama_baik  \n",
       "0     0            1                     0  \n",
       "1     0            0                     0  \n",
       "2     0            0                     0  \n",
       "3     0            0                     0  \n",
       "4     0            0                     0  "
      ]
     },
     "execution_count": 30,
     "metadata": {},
     "output_type": "execute_result"
    }
   ],
   "source": [
    "test_data.head()"
   ]
  },
  {
   "cell_type": "markdown",
   "metadata": {},
   "source": [
    "Text is still raw, need processing before used for model training"
   ]
  },
  {
   "cell_type": "markdown",
   "metadata": {},
   "source": [
    "### Label distribution"
   ]
  },
  {
   "cell_type": "code",
   "execution_count": 32,
   "metadata": {},
   "outputs": [],
   "source": [
    "labels = ['pornografi', 'sara', 'radikalisme', 'pencemaran_nama_baik']"
   ]
  },
  {
   "cell_type": "code",
   "execution_count": 33,
   "metadata": {},
   "outputs": [],
   "source": [
    "def get_label_distribution(data, label):\n",
    "    return np.sum(data[label]) / data.shape[0]"
   ]
  },
  {
   "cell_type": "code",
   "execution_count": 34,
   "metadata": {},
   "outputs": [
    {
     "name": "stdout",
     "output_type": "stream",
     "text": [
      "% of train data containing pornografi label: 22.50%\n",
      "% of train data containing sara label: 16.07%\n",
      "% of train data containing radikalisme label: 16.50%\n",
      "% of train data containing pencemaran_nama_baik label: 31.17%\n"
     ]
    }
   ],
   "source": [
    "for label in labels:\n",
    "    print('% of train data containing', label, 'label:', '{0:.2%}'.format(get_label_distribution(train_data, label)))"
   ]
  },
  {
   "cell_type": "code",
   "execution_count": 35,
   "metadata": {},
   "outputs": [
    {
     "name": "stdout",
     "output_type": "stream",
     "text": [
      "% of test data containing pornografi label: 22.24%\n",
      "% of test data containing sara label: 14.65%\n",
      "% of test data containing radikalisme label: 15.68%\n",
      "% of test data containing pencemaran_nama_baik label: 31.49%\n"
     ]
    }
   ],
   "source": [
    "for label in labels:\n",
    "    print('% of test data containing', label, 'label:', '{0:.2%}'.format(get_label_distribution(test_data, label)))"
   ]
  },
  {
   "cell_type": "markdown",
   "metadata": {},
   "source": [
    "***Insight:*** Pretty similar label distribution between train and test data"
   ]
  },
  {
   "cell_type": "markdown",
   "metadata": {},
   "source": [
    "## Word Count"
   ]
  },
  {
   "cell_type": "code",
   "execution_count": 36,
   "metadata": {},
   "outputs": [],
   "source": [
    "train_data['word_count'] = train_data['original_text'].apply(lambda x: len(x.split()))"
   ]
  },
  {
   "cell_type": "code",
   "execution_count": 38,
   "metadata": {},
   "outputs": [
    {
     "data": {
      "text/plain": [
       "count    6995.000000\n",
       "mean       44.541387\n",
       "std        92.940414\n",
       "min         7.000000\n",
       "25%        20.000000\n",
       "50%        23.000000\n",
       "75%        35.000000\n",
       "max      2500.000000\n",
       "Name: word_count, dtype: float64"
      ]
     },
     "execution_count": 38,
     "metadata": {},
     "output_type": "execute_result"
    }
   ],
   "source": [
    "train_data['word_count'].describe()"
   ]
  },
  {
   "cell_type": "code",
   "execution_count": 39,
   "metadata": {},
   "outputs": [
    {
     "data": {
      "text/plain": [
       "<matplotlib.axes._subplots.AxesSubplot at 0x10cbe6fd0>"
      ]
     },
     "execution_count": 39,
     "metadata": {},
     "output_type": "execute_result"
    },
    {
     "data": {
      "image/png": "[encoded data removed]",
      "text/plain": [
       "<matplotlib.figure.Figure at 0x10cab2cf8>"
      ]
     },
     "metadata": {},
     "output_type": "display_data"
    }
   ],
   "source": [
    "plt.title('train data word count')\n",
    "sns.distplot(train_data['word_count'])"
   ]
  },
  {
   "cell_type": "code",
   "execution_count": 40,
   "metadata": {},
   "outputs": [],
   "source": [
    "test_data['word_count'] = test_data['original_text'].apply(lambda x: len(x.split()))"
   ]
  },
  {
   "cell_type": "code",
   "execution_count": 41,
   "metadata": {},
   "outputs": [
    {
     "data": {
      "text/plain": [
       "count    778.000000\n",
       "mean      37.255784\n",
       "std       56.557781\n",
       "min       11.000000\n",
       "25%       20.000000\n",
       "50%       23.000000\n",
       "75%       34.000000\n",
       "max      748.000000\n",
       "Name: word_count, dtype: float64"
      ]
     },
     "execution_count": 41,
     "metadata": {},
     "output_type": "execute_result"
    }
   ],
   "source": [
    "test_data['word_count'].describe()"
   ]
  },
  {
   "cell_type": "code",
   "execution_count": 43,
   "metadata": {},
   "outputs": [
    {
     "data": {
      "text/plain": [
       "<matplotlib.axes._subplots.AxesSubplot at 0x105c017f0>"
      ]
     },
     "execution_count": 43,
     "metadata": {},
     "output_type": "execute_result"
    },
    {
     "data": {
      "image/png": "[encoded data removed]",
      "text/plain": [
       "<matplotlib.figure.Figure at 0x10d054eb8>"
      ]
     },
     "metadata": {},
     "output_type": "display_data"
    }
   ],
   "source": [
    "plt.title('test data word count')\n",
    "sns.distplot(test_data['word_count'])"
   ]
  },
  {
   "cell_type": "markdown",
   "metadata": {},
   "source": [
    "It's not surprising that 75% of the text have <= 34 words since it's gathered from social media post"
   ]
  },
  {
   "cell_type": "markdown",
   "metadata": {},
   "source": [
    "### Text Analysis"
   ]
  },
  {
   "cell_type": "code",
   "execution_count": 45,
   "metadata": {},
   "outputs": [
    {
     "name": "stdout",
     "output_type": "stream",
     "text": [
      ">>>>> TEXT #1\n",
      "[QUOTE=jessepinkman16;5a50ac34d89b093f368b456e]jabar emng propinsi barokah :lehuga[/QUOTE]\\n\\nWOI, ANJING GOBLOK\\nPROPINSI YANG PALING BANYAK NGERUSAK DAN NGEBAKAR GEREJA ITU JATIM, GAK LU SEBUT PROPINSI LUMBUNG NASBUNG TUH JATIM?\\nPROPINSI PENGHASIL GEMBONG TERORIS TERBANYAK ITU JATENG, GAK LU SEBUT LUMBUNG NASBUNG TUH JATENG?\\nNGARANG STEREOTIP KOK PILIAH PILIH?\\nBANGGSAT LU PECUN\n",
      "\n",
      ">>>>> TEXT #2\n",
      "@verosvante kita2 aja nitizen yang pada kepo,toh keluarga besar pasti udh pada tau,situ jg kalo urusan nya diurusin orang pasti ngamuk2,ngedumel \"ngasih makan engga sibuk ngurusin urusan gw\"yakan?setiap orang pnya cara masng2 buat mensyukuri kebahagiaannya ,ada yg di publis ada yg disimpen yg pntng tujuannya apa!trus kalo soal hijrahnya karna habib ya berarti Allah ngasih jalannya lewat situ,kan jalan hijrah manusia itu msng2 pintunya ,jgn so tau makanya\n",
      ">>>>> TEXT #3\n",
      "\"#SidangAhok smg sipenista agama n ateknya matinya tdk wjar n jasadnya tdk dtrma tnh n dia tdk prnh mrs kn sorga,aamiin semoga tuhan setuju\"\n",
      ">>>>> TEXT #4\n",
      "@bolususulembang.jkt barusan baca undang2 ini. Tetep dibedakan kok antara presiden dan mantan presiden. Di bagian mantan presiden tidak termasuk pengamanan utk anak dan menantu, melainkan hanya mantan presiden beserta istri/suami saja. Itu boleh masuk sampe situ mungkin krn VIP dimana saya yg rakyat biasa pun bisa. Kroscek lg mas sebelum ngegas 😋\n",
      ">>>>> TEXT #5\n",
      "bikin anak mulu lu nof \\nkaga mikir apa kasian anak lu nanti bakalan malu punya bapak kelakuan kaya elu\n",
      "\n",
      ">>>>> TEXT #6\n",
      "Itu membuktikan bahwa rakyat Malaysia Anti-Cinak. Indonesia pun juga tp masih malu2. Kita tunggu gerakan anti cina di Indonesia\n",
      "\n",
      ">>>>> TEXT #7\n",
      "@BasherRL heh kontol, jan sok pemes lu di rp, muka kek memek, org tua lu kek monyet, agama lu aje agama kontol 38\n",
      ">>>>> TEXT #8\n",
      "@ongbaotek eh memek diem lo pala lo kaya kontol! Muka lo kaya memek! Dasar gigolo! Punya penyakit kelamin ya lo? Wakkakaka\n",
      ">>>>> TEXT #9\n",
      "Mungkin akibat memakai gorden di pala menghambat aliran oksigen ke otak menyebabkan intelejensia menurun drastis ..\\n\\nSampe2 liat miskiner kriditan bawa motor aja terpesona, buka hati n buka paha ..\n",
      "\n",
      ">>>>> TEXT #10\n",
      "E kaka nona yg paling bodoh dan goblok Manokwari sekarang so jadi ibu kota Propinsi Papua barat Kaka,bodoh jangan dipiara Kaka e\n"
     ]
    }
   ],
   "source": [
    "for i in range(10):\n",
    "    print('>>>>> TEXT #{}'.format(i + 1))\n",
    "    print(train_data['original_text'].values[i])"
   ]
  },
  {
   "cell_type": "markdown",
   "metadata": {},
   "source": [
    "#### Text contains:\n",
    "- Platform specific formatting (e.g. twitter mention)\n",
    "- Slang words\n",
    "- Excessive newline / whitespace\n",
    "- Shorten words\n",
    "- many more\n",
    "\n",
    "***What's next:*** Need to processed this text!"
   ]
  }
 ],
 "metadata": {
  "kernelspec": {
   "display_name": "Python 3",
   "language": "python",
   "name": "python3"
  },
  "language_info": {
   "codemirror_mode": {
    "name": "ipython",
    "version": 3
   },
   "file_extension": ".py",
   "mimetype": "text/x-python",
   "name": "python",
   "nbconvert_exporter": "python",
   "pygments_lexer": "ipython3",
   "version": "3.6.4"
  }
 },
 "nbformat": 4,
 "nbformat_minor": 2
}
