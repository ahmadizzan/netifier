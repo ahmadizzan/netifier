{
 "cells": [
  {
   "cell_type": "code",
   "execution_count": 1,
   "metadata": {},
   "outputs": [],
   "source": [
    "import numpy as np\n",
    "import pandas as pd"
   ]
  },
  {
   "cell_type": "markdown",
   "metadata": {},
   "source": [
    "## Load Data"
   ]
  },
  {
   "cell_type": "code",
   "execution_count": 6,
   "metadata": {},
   "outputs": [],
   "source": [
    "EXTERNAL_DATA_PATH = '../data/external'\n",
    "RAW_DATA_PATH = '../data/raw'"
   ]
  },
  {
   "cell_type": "code",
   "execution_count": 3,
   "metadata": {},
   "outputs": [],
   "source": [
    "train_data = pd.read_csv('{}/train.csv'.format(RAW_DATA_PATH))\n",
    "test_data = pd.read_csv('{}/test.csv'.format(RAW_DATA_PATH))"
   ]
  },
  {
   "cell_type": "markdown",
   "metadata": {},
   "source": [
    "## Preprocess Data"
   ]
  },
  {
   "cell_type": "markdown",
   "metadata": {},
   "source": [
    "### Create text columns for storing processed text"
   ]
  },
  {
   "cell_type": "code",
   "execution_count": 4,
   "metadata": {},
   "outputs": [],
   "source": [
    "train_data['text'] = train_data['original_text'].values\n",
    "test_data['text'] = test_data['original_text'].values"
   ]
  },
  {
   "cell_type": "code",
   "execution_count": 5,
   "metadata": {},
   "outputs": [
    {
     "data": {
      "text/html": [
       "<div>\n",
       "<style>\n",
       "    .dataframe thead tr:only-child th {\n",
       "        text-align: right;\n",
       "    }\n",
       "\n",
       "    .dataframe thead th {\n",
       "        text-align: left;\n",
       "    }\n",
       "\n",
       "    .dataframe tbody tr th {\n",
       "        vertical-align: top;\n",
       "    }\n",
       "</style>\n",
       "<table border=\"1\" class=\"dataframe\">\n",
       "  <thead>\n",
       "    <tr style=\"text-align: right;\">\n",
       "      <th></th>\n",
       "      <th>original_text</th>\n",
       "      <th>source</th>\n",
       "      <th>pornografi</th>\n",
       "      <th>sara</th>\n",
       "      <th>radikalisme</th>\n",
       "      <th>pencemaran_nama_baik</th>\n",
       "      <th>text</th>\n",
       "    </tr>\n",
       "  </thead>\n",
       "  <tbody>\n",
       "    <tr>\n",
       "      <th>0</th>\n",
       "      <td>[QUOTE=jessepinkman16;5a50ac34d89b093f368b456e...</td>\n",
       "      <td>kaskus</td>\n",
       "      <td>0</td>\n",
       "      <td>0</td>\n",
       "      <td>0</td>\n",
       "      <td>1</td>\n",
       "      <td>[QUOTE=jessepinkman16;5a50ac34d89b093f368b456e...</td>\n",
       "    </tr>\n",
       "    <tr>\n",
       "      <th>1</th>\n",
       "      <td>@verosvante kita2 aja nitizen yang pada kepo,t...</td>\n",
       "      <td>instagram</td>\n",
       "      <td>0</td>\n",
       "      <td>0</td>\n",
       "      <td>0</td>\n",
       "      <td>0</td>\n",
       "      <td>@verosvante kita2 aja nitizen yang pada kepo,t...</td>\n",
       "    </tr>\n",
       "    <tr>\n",
       "      <th>2</th>\n",
       "      <td>\"#SidangAhok smg sipenista agama n ateknya mat...</td>\n",
       "      <td>twitter</td>\n",
       "      <td>0</td>\n",
       "      <td>1</td>\n",
       "      <td>1</td>\n",
       "      <td>1</td>\n",
       "      <td>\"#SidangAhok smg sipenista agama n ateknya mat...</td>\n",
       "    </tr>\n",
       "    <tr>\n",
       "      <th>3</th>\n",
       "      <td>@bolususulembang.jkt barusan baca undang2 ini....</td>\n",
       "      <td>instagram</td>\n",
       "      <td>0</td>\n",
       "      <td>0</td>\n",
       "      <td>0</td>\n",
       "      <td>0</td>\n",
       "      <td>@bolususulembang.jkt barusan baca undang2 ini....</td>\n",
       "    </tr>\n",
       "    <tr>\n",
       "      <th>4</th>\n",
       "      <td>bikin anak mulu lu nof \\nkaga mikir apa kasian...</td>\n",
       "      <td>kaskus</td>\n",
       "      <td>0</td>\n",
       "      <td>0</td>\n",
       "      <td>0</td>\n",
       "      <td>0</td>\n",
       "      <td>bikin anak mulu lu nof \\nkaga mikir apa kasian...</td>\n",
       "    </tr>\n",
       "  </tbody>\n",
       "</table>\n",
       "</div>"
      ],
      "text/plain": [
       "                                       original_text     source  pornografi  \\\n",
       "0  [QUOTE=jessepinkman16;5a50ac34d89b093f368b456e...     kaskus           0   \n",
       "1  @verosvante kita2 aja nitizen yang pada kepo,t...  instagram           0   \n",
       "2  \"#SidangAhok smg sipenista agama n ateknya mat...    twitter           0   \n",
       "3  @bolususulembang.jkt barusan baca undang2 ini....  instagram           0   \n",
       "4  bikin anak mulu lu nof \\nkaga mikir apa kasian...     kaskus           0   \n",
       "\n",
       "   sara  radikalisme  pencemaran_nama_baik  \\\n",
       "0     0            0                     1   \n",
       "1     0            0                     0   \n",
       "2     1            1                     1   \n",
       "3     0            0                     0   \n",
       "4     0            0                     0   \n",
       "\n",
       "                                                text  \n",
       "0  [QUOTE=jessepinkman16;5a50ac34d89b093f368b456e...  \n",
       "1  @verosvante kita2 aja nitizen yang pada kepo,t...  \n",
       "2  \"#SidangAhok smg sipenista agama n ateknya mat...  \n",
       "3  @bolususulembang.jkt barusan baca undang2 ini....  \n",
       "4  bikin anak mulu lu nof \\nkaga mikir apa kasian...  "
      ]
     },
     "execution_count": 5,
     "metadata": {},
     "output_type": "execute_result"
    }
   ],
   "source": [
    "train_data.head()"
   ]
  },
  {
   "cell_type": "markdown",
   "metadata": {},
   "source": [
    "### Define Preprocessing Method"
   ]
  },
  {
   "cell_type": "markdown",
   "metadata": {},
   "source": [
    "#### Translate text-based emojis"
   ]
  },
  {
   "cell_type": "code",
   "execution_count": 10,
   "metadata": {},
   "outputs": [],
   "source": [
    "import re\n",
    "\n",
    "# Translate emoticon\n",
    "emoticon_data_path = '{}/emoticon.txt'.format(EXTERNAL_DATA_PATH)\n",
    "emoticon_df = pd.read_csv(emoticon_data_path, sep='\\t', header=None)\n",
    "emoticon_dict = dict(zip(emoticon_df[0], emoticon_df[1]))\n",
    "\n",
    "def translate_emoticon(t):\n",
    "    for w, v in emoticon_dict.items():\n",
    "        pattern = re.compile(re.escape(w))\n",
    "        match = re.search(pattern,t)\n",
    "        if match:\n",
    "            t = re.sub(pattern,v,t)\n",
    "    return t"
   ]
  },
  {
   "cell_type": "code",
   "execution_count": 12,
   "metadata": {},
   "outputs": [
    {
     "name": "stdout",
     "output_type": "stream",
     "text": [
      "Before : seru deh acaranya :-)\n",
      "After  : seru deh acaranya Bahagia\n"
     ]
    }
   ],
   "source": [
    "sample_text = 'seru deh acaranya :-)'\n",
    "\n",
    "print('Before :', sample_text)\n",
    "print('After  :', translate_emoticon(sample_text))"
   ]
  },
  {
   "cell_type": "markdown",
   "metadata": {},
   "source": [
    "#### Remove excessive newline"
   ]
  },
  {
   "cell_type": "code",
   "execution_count": 20,
   "metadata": {},
   "outputs": [],
   "source": [
    "def remove_newline(text):\n",
    "    return re.sub('\\n', ' ',text)"
   ]
  },
  {
   "cell_type": "code",
   "execution_count": 22,
   "metadata": {},
   "outputs": [
    {
     "name": "stdout",
     "output_type": "stream",
     "text": [
      "Before : hari ini\n",
      "hari\n",
      "sabtu\n",
      "After  : hari ini hari sabtu\n"
     ]
    }
   ],
   "source": [
    "sample_text = 'hari ini\\nhari\\nsabtu'\n",
    "\n",
    "print('Before :', sample_text)\n",
    "print('After  :', remove_newline(sample_text))"
   ]
  },
  {
   "cell_type": "markdown",
   "metadata": {},
   "source": [
    "#### Remove kaskus formatting"
   ]
  },
  {
   "cell_type": "code",
   "execution_count": 23,
   "metadata": {},
   "outputs": [],
   "source": [
    "def remove_kaskus_formatting(text):\n",
    "    text = re.sub('\\[', ' [', text)\n",
    "    text = re.sub('\\]', '] ', text)\n",
    "    text = re.sub('\\[quote[^ ]*\\].*?\\[\\/quote\\]', ' ', text)\n",
    "    text = re.sub('\\[[^ ]*\\]', ' ', text)\n",
    "    text = re.sub('&quot;', ' ', text)\n",
    "    return text"
   ]
  },
  {
   "cell_type": "code",
   "execution_count": 26,
   "metadata": {},
   "outputs": [
    {
     "name": "stdout",
     "output_type": "stream",
     "text": [
      "Before : [QUOTE=jessepinkman16;5a50ac34d89b093f368b456e]yoiii cuy halo halo bandung[/QUOTE]\n",
      "After  :    yoiii cuy halo halo bandung   \n"
     ]
    }
   ],
   "source": [
    "sample_text = '[QUOTE=jessepinkman16;5a50ac34d89b093f368b456e]yoiii cuy halo halo bandung[/QUOTE]'\n",
    "\n",
    "print('Before :', sample_text)\n",
    "print('After  :', remove_kaskus_formatting(sample_text))"
   ]
  },
  {
   "cell_type": "markdown",
   "metadata": {},
   "source": [
    "#### Remove url"
   ]
  },
  {
   "cell_type": "code",
   "execution_count": 27,
   "metadata": {},
   "outputs": [],
   "source": [
    "def remove_url(text):\n",
    "    return re.sub('((www\\.[^\\s]+)|(https?://[^\\s]+)|(http?://[^\\s]+))', '', text)"
   ]
  },
  {
   "cell_type": "code",
   "execution_count": 30,
   "metadata": {},
   "outputs": [
    {
     "name": "stdout",
     "output_type": "stream",
     "text": [
      "Before : kemaren kacao bet de www.instagram.com/lele/lili\n",
      "After  : kemaren kacao bet de \n"
     ]
    }
   ],
   "source": [
    "sample_text = 'kemaren kacao bet de www.instagram.com/lele/lili'\n",
    "\n",
    "print('Before :', sample_text)\n",
    "print('After  :', remove_url(sample_text))"
   ]
  },
  {
   "cell_type": "markdown",
   "metadata": {},
   "source": [
    "#### Remove excessive whitespace"
   ]
  },
  {
   "cell_type": "code",
   "execution_count": 31,
   "metadata": {},
   "outputs": [],
   "source": [
    "def remove_excessive_whitespace(text):\n",
    "    return re.sub('  +', ' ', text)"
   ]
  },
  {
   "cell_type": "code",
   "execution_count": 32,
   "metadata": {},
   "outputs": [
    {
     "name": "stdout",
     "output_type": "stream",
     "text": [
      "Before : budi      pergi ke           pasar\n",
      "After  : budi pergi ke pasar\n"
     ]
    }
   ],
   "source": [
    "sample_text = 'budi      pergi ke           pasar'\n",
    "\n",
    "print('Before :', sample_text)\n",
    "print('After  :', remove_excessive_whitespace(sample_text))"
   ]
  },
  {
   "cell_type": "markdown",
   "metadata": {},
   "source": [
    "#### Tokenize text"
   ]
  },
  {
   "cell_type": "code",
   "execution_count": 34,
   "metadata": {},
   "outputs": [],
   "source": [
    "from nltk.tokenize import WordPunctTokenizer\n",
    "\n",
    "def tokenize_text(text, punct=False):\n",
    "    text = WordPunctTokenizer().tokenize(text)\n",
    "    text = [word for word in text if punct or word.isalnum()]\n",
    "    text = ' '.join(text)\n",
    "    text = text.strip()\n",
    "    return text"
   ]
  },
  {
   "cell_type": "code",
   "execution_count": 36,
   "metadata": {},
   "outputs": [
    {
     "name": "stdout",
     "output_type": "stream",
     "text": [
      "Before : kemarin,aku pergi ke dagas.terus ketemu sama Ilham.\n",
      "After  : kemarin aku pergi ke dagas terus ketemu sama Ilham\n"
     ]
    }
   ],
   "source": [
    "sample_text = 'kemarin,aku pergi ke dagas.terus ketemu sama Ilham.'\n",
    "\n",
    "print('Before :', sample_text)\n",
    "print('After  :', tokenize_text(sample_text))"
   ]
  },
  {
   "cell_type": "markdown",
   "metadata": {},
   "source": [
    "#### Transform slang words"
   ]
  },
  {
   "cell_type": "code",
   "execution_count": 54,
   "metadata": {},
   "outputs": [],
   "source": [
    "slang_words = pd.read_csv('{}/slangword.csv'.format(EXTERNAL_DATA_PATH))\n",
    "slang_dict = dict(zip(slang_words['original'],slang_words['translated']))\n",
    "\n",
    "def transform_slang_words(text):\n",
    "    word_list = text.split()\n",
    "    word_list_len = len(word_list)\n",
    "    transformed_word_list = []\n",
    "    i = 0\n",
    "    while i < word_list_len:\n",
    "        if (i + 1) < word_list_len:\n",
    "            two_words = ' '.join(word_list[i:i+2])\n",
    "            if two_words in slang_dict:\n",
    "                transformed_word_list.append(slang_dict[two_words])\n",
    "                i += 2\n",
    "                continue\n",
    "        transformed_word_list.append(slang_dict.get(word_list[i], word_list[i]))\n",
    "        i += 1\n",
    "    return ' '.join(transformed_word_list)"
   ]
  },
  {
   "cell_type": "code",
   "execution_count": 56,
   "metadata": {},
   "outputs": [
    {
     "name": "stdout",
     "output_type": "stream",
     "text": [
      "Before : siap mas sebentar lagi saya sampai 7an\n",
      "After  : siap mas sebentar lagi saya sampai tujuan\n"
     ]
    }
   ],
   "source": [
    "sample_text = 'siap mas sebentar lagi saya sampai 7an'\n",
    "\n",
    "print('Before :', sample_text)\n",
    "print('After  :', transform_slang_words(sample_text))"
   ]
  },
  {
   "cell_type": "markdown",
   "metadata": {},
   "source": [
    "#### Remove non aplhabet"
   ]
  },
  {
   "cell_type": "code",
   "execution_count": 57,
   "metadata": {},
   "outputs": [],
   "source": [
    "def remove_non_alphabet(text):\n",
    "    output = re.sub('[^a-zA-Z ]+', '', text)\n",
    "    return output"
   ]
  },
  {
   "cell_type": "code",
   "execution_count": 58,
   "metadata": {},
   "outputs": [
    {
     "name": "stdout",
     "output_type": "stream",
     "text": [
      "Before : kemaren tu123 ada kelinci di kebun\n",
      "After  : kemaren tu ada kelinci di kebun\n"
     ]
    }
   ],
   "source": [
    "sample_text = 'kemaren tu123 ada kelinci di kebun'\n",
    "\n",
    "print('Before :', sample_text)\n",
    "print('After  :', remove_non_alphabet(sample_text))"
   ]
  },
  {
   "cell_type": "code",
   "execution_count": null,
   "metadata": {},
   "outputs": [],
   "source": []
  }
 ],
 "metadata": {
  "kernelspec": {
   "display_name": "Python 3",
   "language": "python",
   "name": "python3"
  },
  "language_info": {
   "codemirror_mode": {
    "name": "ipython",
    "version": 3
   },
   "file_extension": ".py",
   "mimetype": "text/x-python",
   "name": "python",
   "nbconvert_exporter": "python",
   "pygments_lexer": "ipython3",
   "version": "3.6.4"
  }
 },
 "nbformat": 4,
 "nbformat_minor": 2
}
